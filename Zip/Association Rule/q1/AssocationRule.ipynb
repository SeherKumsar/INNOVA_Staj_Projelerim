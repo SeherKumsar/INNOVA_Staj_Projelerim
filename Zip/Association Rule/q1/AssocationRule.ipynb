{
 "cells": [
  {
   "cell_type": "markdown",
   "id": "a9e842b6-53e2-4512-b71b-1898c1eab6cc",
   "metadata": {},
   "source": [
    "Bu notebook içerisinde Covid19 Pandemi Döneminde Yatan Hastaların durumlarıyla alakalı küçük bir veri seti paylaşılmıştır. Sizden beklenenler:\n",
    "- Veriyi excel dosyasından okumak\n",
    "- Veri hakkında EDA sürecini uygulamak\n",
    "- Gözlemlerinizi belirtmek \n",
    "- Preprocessing adımlarını uygulamak\n",
    "- FIM ve Association rule Extaction\n",
    "- Sonuçları değerlendirmek"
   ]
  },
  {
   "cell_type": "markdown",
   "id": "bd60b9d8-f646-4ee6-bbdc-1023a077fdbf",
   "metadata": {},
   "source": [
    "- pip install xlrd\n",
    "- pip install pandas\n",
    "- pip install numpy\n",
    "- pip install mlxtend\n",
    "- pip install scikit-learn\n",
    "- pip install matplotlib\n",
    "- pip install seaborn "
   ]
  },
  {
   "cell_type": "markdown",
   "id": "b9dee49b-0471-447f-b0d4-0fce87091cc2",
   "metadata": {},
   "source": [
    "# 1. Import Libraries\n",
    "\n",
    "- NumPy, Pandas gibi paketlerin import edilmesi"
   ]
  },
  {
   "cell_type": "code",
   "execution_count": null,
   "id": "6b2af6f8-7c37-48f8-82d0-dc5e8465b6e4",
   "metadata": {},
   "outputs": [],
   "source": []
  },
  {
   "cell_type": "markdown",
   "id": "c1d5bc30-113c-4bd5-b688-e4332dc985e3",
   "metadata": {},
   "source": [
    "# 2. Load Dataset\n",
    "- excel dosyasının içindeki \"data_reduced\" sheet'ini oku"
   ]
  },
  {
   "cell_type": "code",
   "execution_count": null,
   "id": "4665077c-aa04-4df1-9ae1-d6d4eef63050",
   "metadata": {},
   "outputs": [],
   "source": []
  },
  {
   "cell_type": "markdown",
   "id": "68a061ba-aea3-4c4e-8cd6-e0470de472e3",
   "metadata": {},
   "source": [
    "# 3. Exploratory Data Analysis \n",
    "\n",
    "- Görselleştirme ve analiz gerçekleştirilip, yorumlarda bulunulması bekleniyor"
   ]
  },
  {
   "cell_type": "code",
   "execution_count": null,
   "id": "20de9122-3fb3-4aab-8ba5-baabc09bed4c",
   "metadata": {},
   "outputs": [],
   "source": []
  },
  {
   "cell_type": "markdown",
   "id": "301d382b-a7f3-4f62-91a8-34d2d29357d4",
   "metadata": {},
   "source": [
    "# 4. Preprocessing "
   ]
  },
  {
   "cell_type": "markdown",
   "id": "32e7c804-5a31-4c29-ac65-30eddb4d9d95",
   "metadata": {
    "tags": []
   },
   "source": [
    "## 4.1. Hastalıklar DataFrame'inin Oluşturulması\n",
    "- df_diseases dataframe'ini şu sütunları ana dataframe'den seçerek oluştur: **['Cardiovascular and\\ncerebrovascular disease', 'Endocrine system disease','Malignant tumor','Respiratory system disease', 'Digestive system disease','Renal disease','Liver disease']**\n",
    "- df_diseases dataframe'ine ana dataframe içerisindeki şu sütunları ekle:**['Age','Gender']**\n",
    "- df_diseases dataframe'ine **Illness** diye bir sütun oluştur ve bu sütunu ana dataframe'deki **Clinical classification** sütunu ile doldur ve her doldurdugun her verinin sonuna **' ill'** ekle\n",
    "- **'Age Group'** diye bir sütun oluştur ve **'Age'** sütunundaki verilere göre şu şekilde kategorize et: <br>\n",
    "    **{\"Elderly\": (Age>=65),<br> \"Adults\": (18<= Age <65),<br>\"Teens\": (12=<Age<18), <br>\"Children\": (1<Age<11), <br> \"Infants\": (Age<=1) }**\n",
    "- Kategorizasyon bittikten sonra **'Age'** sütununu drop et\n",
    "- **\"Gender\", \"Illness\", \"Age Group\"** sütunlarını one-hot encoding için dummy hale getir \n",
    "- **\"Gender\", \"Illness\", \"Age Group\"** drop et\n",
    "- Tüm veriyi boolean(True,False) hale getir.**{'Y': True, 'N': False}**"
   ]
  },
  {
   "cell_type": "code",
   "execution_count": null,
   "id": "cb825284-cc1d-43ab-801a-83ace9415787",
   "metadata": {},
   "outputs": [],
   "source": []
  },
  {
   "cell_type": "markdown",
   "id": "6a0a3ae3-0b8a-42a1-b6ad-509b629cf3df",
   "metadata": {},
   "source": [
    "## 4.2. Semptomlar DataFrame'inin Oluşturulması\n",
    "- Ana dataframe'den sütunları seç : **['Fever', 'Cough','Chest tightness', 'Fatigue', 'Diarrhea', 'Others']** ve **df_symptoms** diye bir dataframe oluştur\n",
    "- **'Covid19'** diye bir sütun oluştur ve tüm değerlerini **'Y'** olarak ata\n",
    "- **df_symptom_exntended** diye bir dataframe oluştur. Bu dataframe'i oluştururken **df_disease** içerisindeki dummy **\"Gender\",\"Illness\",\"Age Group\"** verileri ile **df_symptom** dataframe'ini y ekseninde concat et. (axis=1)\n"
   ]
  },
  {
   "cell_type": "code",
   "execution_count": null,
   "id": "14fbceb0-96ee-4afd-b68c-ee66b6213a30",
   "metadata": {},
   "outputs": [],
   "source": []
  },
  {
   "cell_type": "markdown",
   "id": "9dc5a167-2707-44b0-8f00-fcdf80f7e4a5",
   "metadata": {},
   "source": [
    "# 5. Apriori: Frequent Itemset Mining & Association Rule Extraction"
   ]
  },
  {
   "cell_type": "code",
   "execution_count": null,
   "id": "704e9924-25bf-4704-aa3b-15388aa8be34",
   "metadata": {},
   "outputs": [],
   "source": [
    "# from mlxtend.frequent_patterns import apriori\n",
    "# from mlxtend.frequent_patterns import association_rules"
   ]
  },
  {
   "cell_type": "markdown",
   "id": "ddb18611-e9aa-411c-b34f-567872e61307",
   "metadata": {},
   "source": [
    "- df_symptoms için apriori ile min_support=0.02 olan itemset'lerini bul \n",
    "- df_symptoms için bulduğun itemset'lerden association rule'larını confidence >= 0.6 ve support >=0.2 olacak şekilde kuralları çıkar ve rules0 değişkenine ata."
   ]
  },
  {
   "cell_type": "code",
   "execution_count": null,
   "id": "dd86ce79-9f28-4af8-b722-6776a1bc4616",
   "metadata": {},
   "outputs": [],
   "source": []
  },
  {
   "cell_type": "markdown",
   "id": "21f5b148-1097-4217-8a24-75b61ef81392",
   "metadata": {},
   "source": [
    "- df_symptoms_extended için apriori ile min_support=0.02 olan itemset'lerini bul \n",
    "- df_symptoms_extended için bulduğun itemset'lerden association rule'larını confidence >= 0.6 ve support >=0.2 olacak şekilde kuralları çıkar ve rules1 değişkenine ata."
   ]
  },
  {
   "cell_type": "code",
   "execution_count": null,
   "id": "2a74a273-cff4-4662-b342-0ad590576f75",
   "metadata": {},
   "outputs": [],
   "source": []
  },
  {
   "cell_type": "markdown",
   "id": "eac2bb70-c270-45cb-a12b-167297ce8b20",
   "metadata": {},
   "source": [
    "- df_diseases için apriori ile min_support=0.02 olan itemset'lerini bul \n",
    "- df_diseases için bulduğun itemset'lerden association rule'larını confidence >= 0.6 ve support >=0.1 olacak şekilde kuralları çıkar ve rules2 değişkenine ata."
   ]
  },
  {
   "cell_type": "code",
   "execution_count": null,
   "id": "bcf0065d-865a-4758-895a-69ddb782940e",
   "metadata": {},
   "outputs": [],
   "source": []
  },
  {
   "cell_type": "markdown",
   "id": "483cdc59-42d9-4b2a-92db-f83845dba1c6",
   "metadata": {},
   "source": [
    "### rules0 değişkenindeki kuralları bul : (...) -> (Covid19)    \n",
    "- confidence >= 0.6  ve support >= 0.2 olmalı "
   ]
  },
  {
   "cell_type": "code",
   "execution_count": null,
   "id": "b93e5bb4-54d6-4218-b5b7-2b7d74f9c76e",
   "metadata": {},
   "outputs": [],
   "source": [
    "\n",
    "\n"
   ]
  },
  {
   "cell_type": "markdown",
   "id": "1d96de72-97ca-42a5-a150-a001705d98fd",
   "metadata": {},
   "source": [
    "### rules1 ve rules2 değişkenindeki kuralları bul (item1, item 2) -> (..)\n",
    "-  confidence >= 0.6 olmalı ve support >= 0.1 olmalı \n",
    "-  len(antecedents) >= 2"
   ]
  },
  {
   "cell_type": "code",
   "execution_count": null,
   "id": "d4f8557e-6caf-4ce1-b9a3-42ba0c6b5bd8",
   "metadata": {},
   "outputs": [],
   "source": []
  },
  {
   "cell_type": "code",
   "execution_count": null,
   "id": "6de44af1-d83c-4a19-bc98-68a496072d30",
   "metadata": {},
   "outputs": [],
   "source": []
  }
 ],
 "metadata": {
  "kernelspec": {
   "display_name": "Python 3 (ipykernel)",
   "language": "python",
   "name": "python3"
  },
  "language_info": {
   "codemirror_mode": {
    "name": "ipython",
    "version": 3
   },
   "file_extension": ".py",
   "mimetype": "text/x-python",
   "name": "python",
   "nbconvert_exporter": "python",
   "pygments_lexer": "ipython3",
   "version": "3.10.9"
  }
 },
 "nbformat": 4,
 "nbformat_minor": 5
}
