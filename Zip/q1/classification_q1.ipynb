{
 "cells": [
  {
   "cell_type": "markdown",
   "id": "8c807aeb-6377-46ae-9b42-6e18a63832c8",
   "metadata": {
    "tags": []
   },
   "source": [
    "# Problem:\n",
    "> Bir oda içerisinde kişi olup olmadığını tespit etmek.\n",
    "\n",
    "## Beklentiler:\n",
    "- Eğitim sonuçları ve analiz kısımlarında gözlemlerin paylaşılması \n",
    "- Preprocessing adımlarının bilinçli bir şekilde uygulanması\n",
    "- Train ile eğitip, dev ile değerlendirip son olarak model başarısını test veri seti ile test edilmesi \n"
   ]
  },
  {
   "cell_type": "markdown",
   "id": "ad87c251-3ae5-42f2-9d72-a8e6400d0f30",
   "metadata": {},
   "source": [
    "# 1. Import Libraries\n",
    "- numpy, pandas, scikit-learn, matplotlib gibi kütüphaneler import edilmesi "
   ]
  },
  {
   "cell_type": "markdown",
   "id": "8a8e5ade-4856-4f02-a372-229b0a63dca9",
   "metadata": {},
   "source": [
    "# 2. Load Datasets\n",
    "- veri setlerinin ilgili dosyalardan okunması "
   ]
  },
  {
   "cell_type": "markdown",
   "id": "245726f4-45be-4a55-ad50-d844ebff427b",
   "metadata": {},
   "source": [
    "# 3. Exploratory Data Analysis\n",
    "- Veri tipleri\n",
    "- NaN, Kayıp değer\n",
    "- Veri setindeki dağılımlar/dengesizlikler\n",
    "- Tekrarlı değerler\n",
    "\n",
    "\n",
    "<u><b>Not:</b> isterseniz daha fazla işlem de yapabilirsiniz (opsiyonel) </u>"
   ]
  },
  {
   "cell_type": "markdown",
   "id": "215f84c1-94a2-4414-bc15-43958dcd6d3c",
   "metadata": {},
   "source": [
    "# 4. Data Preprocessing\n",
    "Temelde istenen preprocessing işlemleri:\n",
    "- scaling işlemleri\n",
    "- Datetime convertion\n",
    "- Kayıp/Nan değer işlemleri\n",
    "- Tekrarlı değer işlemleri\n",
    "- Veri setinin dengelenmesi\n",
    "- Yeni özellik üretimi\n",
    "\n",
    "\n",
    "<u><b>Not:</b> isterseniz daha fazla işlem de yapabilirsiniz (opsiyonel) </u>\n"
   ]
  },
  {
   "cell_type": "markdown",
   "id": "c3786b8c-a596-4ec9-9e21-c5c64e2f3757",
   "metadata": {},
   "source": [
    "# 5. Data Visualization\n",
    "- Preprocessing sonrası EDA kısmının özeti şeklinde anlamlı olabilecek görselleştirmeler"
   ]
  },
  {
   "cell_type": "markdown",
   "id": "b74c0816-fe87-496b-8ef2-84ffa3e51813",
   "metadata": {},
   "source": [
    "# 6. Training\n",
    "- **Yapay sinir ağları(keras,pytorch,tf kullanılabilir tercih size kalmış)** ve **Logistic Regression(scikit-learnden alınabilir)** ile sınıflandırma yapılması.\n",
    "- algoritmalar seçilirken seçilmelerinin sebepleri olmalı ve eğitim sonrası gözlem alarak belirtilmeli\n",
    "- Yapay sinir ağlarında train,dev,test accuracy-loss grafiklerinin çizdirilmesi ve aralıklara göre fit durumunun yorumlanması.( şu aralıklarda underfit, şu noktada fit, şuradan sonra overfit oluyor gibi yorumlar ya da son haliyle modelimiz overfit durumdadır gibi eklemeler..)"
   ]
  },
  {
   "cell_type": "markdown",
   "id": "7033f4d3-447a-425a-ba87-63d8172fe7eb",
   "metadata": {},
   "source": [
    "# 7. Evaluation\n",
    "- confusion matrix hesaplanması\n",
    "- accuracy,error, precision,recall,sensitivity,roc curve eğrileri ve auc score hesaplanması\n",
    "- sonuçların karşılaştırılması ve yorumlanması "
   ]
  }
 ],
 "metadata": {
  "kernelspec": {
   "display_name": "Python 3 (ipykernel)",
   "language": "python",
   "name": "python3"
  },
  "language_info": {
   "codemirror_mode": {
    "name": "ipython",
    "version": 3
   },
   "file_extension": ".py",
   "mimetype": "text/x-python",
   "name": "python",
   "nbconvert_exporter": "python",
   "pygments_lexer": "ipython3",
   "version": "3.7.16"
  }
 },
 "nbformat": 4,
 "nbformat_minor": 5
}
